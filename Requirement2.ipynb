{
 "cells": [
  {
   "cell_type": "code",
   "execution_count": 1,
   "id": "25bb1053-743d-46db-ae4d-eb34683efebf",
   "metadata": {},
   "outputs": [],
   "source": [
    "import requests\n",
    "import matplotlib.pyplot as plt\n",
    "import pandas as pd\n",
    "from citipy import citipy\n",
    "import numpy as np\n",
    "from scipy.stats import linregress\n"
   ]
  },
  {
   "cell_type": "code",
   "execution_count": 2,
   "id": "fca7ccd0-1695-476d-8cc8-b3a2c1074f23",
   "metadata": {},
   "outputs": [],
   "source": [
    "num_cities = 500\n",
    "lats = np.random.uniform(-90, 90, num_cities)\n",
    "lngs = np.random.uniform(-180, 180, num_cities)\n",
    "coordinates = list(zip(lats, lngs))\n",
    "\n",
    "cities = []\n",
    "for lat, lon in coordinates:\n",
    "    city = citipy.nearest_city(lat, lon).city_name\n",
    "    if city not in cities:\n",
    "        cities.append((city, lat, lon))\n"
   ]
  },
  {
   "cell_type": "code",
   "execution_count": null,
   "id": "c792df15-14b4-4a7f-a4f0-eb532cae7bca",
   "metadata": {},
   "outputs": [],
   "source": [
    "api_key = '850d6e457e84fc4c9f409b4b0ffd34f4'\n",
    "url = \"https://api.openweathermap.org/data/3.0/onecall\"\n",
    "\n",
    "cities_names = []\n",
    "latitudes = []\n",
    "longitudes = []\n",
    "temperatures = []\n",
    "humidities = []\n",
    "cloudiness = []\n",
    "wind_speeds = []\n",
    "\n",
    "for city, lat, lon in cities:\n",
    "    params = {\n",
    "        'lat': lat,\n",
    "        'lon': lon,\n",
    "        'exclude': 'minutely,hourly,daily,alerts',\n",
    "        'appid': api_key,\n",
    "        'units': 'metric'\n",
    "    }\n",
    "    response = requests.get(url, params=params)\n",
    "    data = response.json()\n",
    "    \n",
    "    if response.status_code == 200:\n",
    "        cities_names.append(city)\n",
    "        latitudes.append(lat)\n",
    "        longitudes.append(lon)\n",
    "        temperatures.append(data['current']['temp'])\n",
    "        humidities.append(data['current']['humidity'])\n",
    "        cloudiness.append(data['current']['clouds'])\n",
    "        wind_speeds.append(data['current']['wind_speed'])\n"
   ]
  },
  {
   "cell_type": "code",
   "execution_count": null,
   "id": "17063a48-e214-4d47-b6ae-271178c83a3d",
   "metadata": {},
   "outputs": [],
   "source": [
    "weather_data = pd.DataFrame({\n",
    "    'City': cities_names,\n",
    "    'Latitude': latitudes,\n",
    "    'Longitude': longitudes,\n",
    "    'Temperature': temperatures,\n",
    "    'Humidity': humidities,\n",
    "    'Cloudiness': cloudiness,\n",
    "    'Wind Speed': wind_speeds\n",
    "})\n"
   ]
  },
  {
   "cell_type": "code",
   "execution_count": null,
   "id": "d02168b5-3106-458a-9ddb-762d466c40fb",
   "metadata": {},
   "outputs": [],
   "source": [
    "weather_data['Hemisphere'] = np.where(weather_data['Latitude'] >= 0, 'Northern', 'Southern')\n"
   ]
  },
  {
   "cell_type": "code",
   "execution_count": null,
   "id": "08a2bd62-0c49-4737-8f16-7fddd0a0afd4",
   "metadata": {},
   "outputs": [],
   "source": [
    "def plot_regression(x, y, hemisphere, xlabel, ylabel):\n",
    "    slope, intercept, r_value, p_value, std_err = linregress(x, y)\n",
    "    regress_values = x * slope + intercept\n",
    "    line_eq = f'y = {slope:.2f}x + {intercept:.2f}\\nR-squared: {r_value**2:.2f}'\n",
    "    \n",
    "    plt.scatter(x, y, edgecolor='k', alpha=0.75)\n",
    "    plt.plot(x, regress_values, color='red')\n",
    "    \n",
    "    plt.title(f'{hemisphere} Hemisphere: {ylabel} vs. {xlabel}')\n",
    "    plt.xlabel(xlabel)\n",
    "    plt.ylabel(ylabel)\n",
    "    plt.annotate(line_eq, (x.min(), y.max()*0.95), fontsize=12, color='red')\n",
    "    plt.grid(True)\n"
   ]
  },
  {
   "cell_type": "code",
   "execution_count": null,
   "id": "468f592e-8fca-420e-a7e2-1c49854bd130",
   "metadata": {},
   "outputs": [],
   "source": [
    "northern_data = weather_data[weather_data['Hemisphere'] == 'Northern']\n",
    "plt.figure(figsize=(10, 6))\n",
    "plot_regression(northern_data['Latitude'], northern_data['Temperature'], 'Northern', 'Latitude', 'Temperature (°C)')\n",
    "plt.show()\n"
   ]
  },
  {
   "cell_type": "code",
   "execution_count": null,
   "id": "fe231aac-8b1c-46a5-a9ec-1d273292cf72",
   "metadata": {},
   "outputs": [],
   "source": [
    "southern_data = weather_data[weather_data['Hemisphere'] == 'Southern']\n",
    "plt.figure(figsize=(10, 6))\n",
    "plot_regression(southern_data['Latitude'], southern_data['Temperature'], 'Southern', 'Latitude', 'Temperature (°C)')\n",
    "plt.show()\n"
   ]
  },
  {
   "cell_type": "code",
   "execution_count": null,
   "id": "b3e176be-cf73-4225-a2a6-cbebe6266d6d",
   "metadata": {},
   "outputs": [],
   "source": [
    "plt.figure(figsize=(10, 6))\n",
    "plot_regression(northern_data['Latitude'], northern_data['Humidity'], 'Northern', 'Latitude', 'Humidity (%)')\n",
    "plt.show()\n"
   ]
  },
  {
   "cell_type": "code",
   "execution_count": null,
   "id": "483a9b3f-e7b6-43db-8cf4-7ec04e6ce3d7",
   "metadata": {},
   "outputs": [],
   "source": [
    "plt.figure(figsize=(10, 6))\n",
    "plot_regression(southern_data['Latitude'], southern_data['Humidity'], 'Southern', 'Latitude', 'Humidity (%)')\n",
    "plt.show()\n"
   ]
  },
  {
   "cell_type": "code",
   "execution_count": null,
   "id": "962fcd4a-37b0-4ca3-a6f2-6f683b4cb442",
   "metadata": {},
   "outputs": [],
   "source": [
    "plt.figure(figsize=(10, 6))\n",
    "plot_regression(northern_data['Latitude'], northern_data['Cloudiness'], 'Northern', 'Latitude', 'Cloudiness (%)')\n",
    "plt.show()\n"
   ]
  },
  {
   "cell_type": "code",
   "execution_count": null,
   "id": "5b625a33-4661-4948-afca-a9f48444c477",
   "metadata": {},
   "outputs": [],
   "source": [
    "plt.figure(figsize=(10, 6))\n",
    "plot_regression(southern_data['Latitude'], southern_data['Cloudiness'], 'Southern', 'Latitude', 'Cloudiness (%)')\n",
    "plt.show()\n"
   ]
  },
  {
   "cell_type": "code",
   "execution_count": null,
   "id": "359370c2-83b7-4487-b643-be55a99fb984",
   "metadata": {},
   "outputs": [],
   "source": [
    "plt.figure(figsize=(10, 6))\n",
    "plot_regression(northern_data['Latitude'], northern_data['Wind Speed'], 'Northern', 'Latitude', 'Wind Speed (m/s)')\n",
    "plt.show()\n"
   ]
  },
  {
   "cell_type": "code",
   "execution_count": null,
   "id": "614b8b9a-807b-4bad-a080-304158b47f09",
   "metadata": {},
   "outputs": [],
   "source": [
    "plt.figure(figsize=(10, 6))\n",
    "plot_regression(southern_data['Latitude'], southern_data['Wind Speed'], 'Southern', 'Latitude', 'Wind Speed (m/s)')\n",
    "plt.show()\n"
   ]
  },
  {
   "cell_type": "code",
   "execution_count": null,
   "id": "eff93cd5-244d-460b-9fe2-0206146f64a7",
   "metadata": {},
   "outputs": [],
   "source": []
  }
 ],
 "metadata": {
  "kernelspec": {
   "display_name": "Python 3 (ipykernel)",
   "language": "python",
   "name": "python3"
  },
  "language_info": {
   "codemirror_mode": {
    "name": "ipython",
    "version": 3
   },
   "file_extension": ".py",
   "mimetype": "text/x-python",
   "name": "python",
   "nbconvert_exporter": "python",
   "pygments_lexer": "ipython3",
   "version": "3.11.7"
  }
 },
 "nbformat": 4,
 "nbformat_minor": 5
}
