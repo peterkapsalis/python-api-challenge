{
 "cells": [
  {
   "cell_type": "code",
   "execution_count": null,
   "id": "bf16ded7-1ab9-4332-8e6a-4f731b707ad3",
   "metadata": {},
   "outputs": [],
   "source": [
    "pip install requests matplotlib pandas citipy\n"
   ]
  },
  {
   "cell_type": "code",
   "execution_count": null,
   "id": "c2e43068-8d9a-4fb2-b5d4-27825fe8d5ae",
   "metadata": {},
   "outputs": [],
   "source": [
    "import requests\n",
    "import matplotlib.pyplot as plt\n",
    "import pandas as pd\n",
    "from citipy import citipy\n",
    "import numpy as np\n"
   ]
  },
  {
   "cell_type": "code",
   "execution_count": null,
   "id": "2102f4b9-f550-4c2b-86dd-23d491f1e55c",
   "metadata": {},
   "outputs": [],
   "source": [
    "num_cities = 500\n",
    "lats = np.random.uniform(-90, 90, num_cities)\n",
    "lngs = np.random.uniform(-180, 180, num_cities)\n",
    "coordinates = list(zip(lats, lngs))\n",
    "\n",
    "cities = []\n",
    "for lat, lon in coordinates:\n",
    "    city = citipy.nearest_city(lat, lon).city_name\n",
    "    if city not in cities:\n",
    "        cities.append((city, lat, lon))\n"
   ]
  },
  {
   "cell_type": "code",
   "execution_count": null,
   "id": "d2921c41-c457-418e-98b3-47e002797c86",
   "metadata": {},
   "outputs": [],
   "source": [
    "api_key = '850d6e457e84fc4c9f409b4b0ffd34f4'\n",
    "url = \"https://api.openweathermap.org/data/3.0/onecall\"\n",
    "\n",
    "\n",
    "cities_names = []\n",
    "latitudes = []\n",
    "longitudes = []\n",
    "temperatures = []\n",
    "humidities = []\n",
    "cloudiness = []\n",
    "wind_speeds = []\n",
    "\n",
    "\n",
    "for city, lat, lon in cities:\n",
    "    params = {\n",
    "        'lat': lat,\n",
    "        'lon': lon,\n",
    "        'exclude': 'minutely,hourly,daily,alerts',\n",
    "        'appid': api_key,\n",
    "        'units': 'metric'\n",
    "    }\n",
    "    response = requests.get(url, params=params)\n",
    "    data = response.json()\n",
    "    \n",
    "    if response.status_code == 200:\n",
    "        cities_names.append(city)\n",
    "        latitudes.append(lat)\n",
    "        longitudes.append(lon)\n",
    "        temperatures.append(data['current']['temp'])\n",
    "        humidities.append(data['current']['humidity'])\n",
    "        cloudiness.append(data['current']['clouds'])\n",
    "        wind_speeds.append(data['current']['wind_speed'])\n"
   ]
  },
  {
   "cell_type": "code",
   "execution_count": null,
   "id": "0f9af89e-8d07-4f25-ac57-ac76bf86d06d",
   "metadata": {},
   "outputs": [],
   "source": [
    "weather_data = pd.DataFrame({\n",
    "    'City': cities_names,\n",
    "    'Latitude': latitudes,\n",
    "    'Longitude': longitudes,\n",
    "    'Temperature': temperatures,\n",
    "    'Humidity': humidities,\n",
    "    'Cloudiness': cloudiness,\n",
    "    'Wind Speed': wind_speeds\n",
    "})\n"
   ]
  },
  {
   "cell_type": "code",
   "execution_count": null,
   "id": "24ce966e-ad6c-431d-8572-814e85e94383",
   "metadata": {},
   "outputs": [],
   "source": [
    "plt.figure(figsize=(14, 10))\n",
    "\n",
    "plt.subplot(221)\n",
    "plt.scatter(weather_data['Latitude'], weather_data['Temperature'], edgecolor='k', alpha=0.75)\n",
    "plt.title('Latitude vs. Temperature')\n",
    "plt.xlabel('Latitude')\n",
    "plt.ylabel('Temperature (°C)')\n",
    "plt.grid(True)\n",
    "\n",
    "plt.subplot(222)\n",
    "plt.scatter(weather_data['Latitude'], weather_data['Humidity'], edgecolor='k', alpha=0.75)\n",
    "plt.title('Latitude vs. Humidity')\n",
    "plt.xlabel('Latitude')\n",
    "plt.ylabel('Humidity (%)')\n",
    "plt.grid(True)\n",
    "\n",
    "plt.subplot(223)\n",
    "plt.scatter(weather_data['Latitude'], weather_data['Cloudiness'], edgecolor='k', alpha=0.75)\n",
    "plt.title('Latitude vs. Cloudiness')\n",
    "plt.xlabel('Latitude')\n",
    "plt.ylabel('Cloudiness (%)')\n",
    "plt.grid(True)\n",
    "\n",
    "plt.subplot(224)\n",
    "plt.scatter(weather_data['Latitude'], weather_data['Wind Speed'], edgecolor='k', alpha=0.75)\n",
    "plt.title('Latitude vs. Wind Speed')\n",
    "plt.xlabel('Latitude')\n",
    "plt.ylabel('Wind Speed (m/s)')\n",
    "plt.grid(True)\n",
    "\n",
    "plt.tight_layout()\n",
    "plt.show()\n"
   ]
  },
  {
   "cell_type": "code",
   "execution_count": null,
   "id": "5b9522a5-31cd-4867-aa65-b479d8f0de63",
   "metadata": {},
   "outputs": [],
   "source": []
  }
 ],
 "metadata": {
  "kernelspec": {
   "display_name": "Python 3 (ipykernel)",
   "language": "python",
   "name": "python3"
  },
  "language_info": {
   "codemirror_mode": {
    "name": "ipython",
    "version": 3
   },
   "file_extension": ".py",
   "mimetype": "text/x-python",
   "name": "python",
   "nbconvert_exporter": "python",
   "pygments_lexer": "ipython3",
   "version": "3.11.7"
  }
 },
 "nbformat": 4,
 "nbformat_minor": 5
}
